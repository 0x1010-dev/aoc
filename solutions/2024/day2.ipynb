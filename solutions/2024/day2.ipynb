{
 "cells": [
  {
   "cell_type": "markdown",
   "id": "308124d4",
   "metadata": {
    "jupyter": {
     "source_hidden": false
    }
   },
   "source": [
    "## --- Day 2: Red-Nosed Reports ---\n",
    "Fortunately, the first location The Historians want to search isn't a long walk from the Chief Historian's office.\n",
    "\n",
    "While the Red-Nosed Reindeer nuclear fusion/fission plant appears to contain no sign of the Chief Historian, the engineers there run up to you as soon as they see you. Apparently, they **still** talk about the time Rudolph was saved through molecular synthesis from a single electron.\n",
    "\n",
    "They're quick to add that - since you're already here - they'd really appreciate your help analyzing some unusual data from the Red-Nosed reactor. You turn to check if The Historians are waiting for you, but they seem to have already divided into groups that are currently searching every corner of the facility. You offer to help with the unusual data.\n",
    "\n",
    "The unusual data (your puzzle input) consists of many **reports**, one report per line. Each report is a list of numbers called **levels** that are separated by spaces. For example:\n",
    "\n",
    "```shell\n",
    "7 6 4 2 1\n",
    "1 2 7 8 9\n",
    "9 7 6 2 1\n",
    "1 3 2 4 5\n",
    "8 6 4 4 1\n",
    "1 3 6 7 9\n",
    "\n",
    "```\n",
    "\n",
    "This example data contains six reports each containing five levels.\n",
    "\n",
    "The engineers are trying to figure out which reports are **safe**. The Red-Nosed reactor safety systems can only tolerate levels that are either gradually increasing or gradually decreasing. So, a report only counts as safe if both of the following are true:\n",
    "\n",
    "\n",
    "- The levels are either **all increasing** or **all decreasing**.\n",
    "\n",
    "- Any two adjacent levels differ by **at least one** and **at most three**.\n",
    "\n",
    "\n",
    "\n",
    "In the example above, the reports can be found safe or unsafe by checking those rules:\n",
    "\n",
    "\n",
    "- `7 6 4 2 1`: **Safe** because the levels are all decreasing by 1 or 2.\n",
    "\n",
    "- `1 2 7 8 9`: **Unsafe** because `2 7` is an increase of 5.\n",
    "\n",
    "- `9 7 6 2 1`: **Unsafe** because `6 2` is a decrease of 4.\n",
    "\n",
    "- `1 3 2 4 5`: **Unsafe** because `1 3` is increasing but `3 2` is decreasing.\n",
    "\n",
    "- `8 6 4 4 1`: **Unsafe** because `4 4` is neither an increase or a decrease.\n",
    "\n",
    "- `1 3 6 7 9`: **Safe** because the levels are all increasing by 1, 2, or 3.\n",
    "\n",
    "\n",
    "\n",
    "So, in this example, `2` reports are **safe**.\n",
    "\n",
    "Analyze the unusual data from the engineers. **How many reports are safe?**\n",
    "\n"
   ]
  },
  {
   "cell_type": "code",
   "execution_count": 18,
   "id": "70c22df0",
   "metadata": {
    "collapsed": false,
    "jupyter": {
     "outputs_hidden": false,
     "source_hidden": false
    }
   },
   "outputs": [
    {
     "data": {
      "text/plain": [
       "321"
      ]
     },
     "execution_count": 18,
     "metadata": {},
     "output_type": "execute_result"
    }
   ],
   "source": [
    "with open('day2.input') as f:\n",
    "    data = [[int(v) for v in l.strip().split()] for l in f.read().strip().split('\\n')]\n",
    "    \n",
    "def check(level):\n",
    "    is_increasing = all(a < b for a, b in zip(level, level[1:]))\n",
    "    is_decreasing = all(a > b for a, b in zip(level, level[1:]))\n",
    "    monotonic = is_increasing or is_decreasing\n",
    "    if not monotonic: return False\n",
    "    \n",
    "    differ_check = all(1 <= abs(a - b) <= 3 for a, b in zip(level, level[1:]))\n",
    "    if not differ_check: return False\n",
    "    \n",
    "    return True\n",
    "    \n",
    "sum(check(level) for level in data)"
   ]
  },
  {
   "cell_type": "markdown",
   "id": "d1641d47",
   "metadata": {
    "jupyter": {
     "source_hidden": false
    }
   },
   "source": [
    "## --- Part Two ---\n",
    "The engineers are surprised by the low number of safe reports until they realize they forgot to tell you about the Problem Dampener.\n",
    "\n",
    "The Problem Dampener is a reactor-mounted module that lets the reactor safety systems **tolerate a single bad level** in what would otherwise be a safe report. It's like the bad level never happened!\n",
    "\n",
    "Now, the same rules apply as before, except if removing a single level from an unsafe report would make it safe, the report instead counts as safe.\n",
    "\n",
    "More of the above example's reports are now safe:\n",
    "\n",
    "\n",
    "- `7 6 4 2 1`: **Safe** without removing any level.\n",
    "\n",
    "- `1 2 7 8 9`: **Unsafe** regardless of which level is removed.\n",
    "\n",
    "- `9 7 6 2 1`: **Unsafe** regardless of which level is removed.\n",
    "\n",
    "- `1 3 2 4 5`: **Safe** by removing the second level, `3`.\n",
    "\n",
    "- `8 6 4 4 1`: **Safe** by removing the third level, `4`.\n",
    "\n",
    "- `1 3 6 7 9`: **Safe** without removing any level.\n",
    "\n",
    "\n",
    "\n",
    "Thanks to the Problem Dampener, `4` reports are actually **safe**!\n",
    "\n",
    "Update your analysis by handling situations where the Problem Dampener can remove a single level from unsafe reports. **How many reports are now safe?**\n",
    "\n"
   ]
  },
  {
   "cell_type": "code",
   "execution_count": 19,
   "id": "890118f6",
   "metadata": {
    "collapsed": false,
    "jupyter": {
     "outputs_hidden": false,
     "source_hidden": false
    }
   },
   "outputs": [
    {
     "data": {
      "text/plain": [
       "386"
      ]
     },
     "execution_count": 19,
     "metadata": {},
     "output_type": "execute_result"
    }
   ],
   "source": [
    "# ugly brute force solution\n",
    "sum(any(check(v[:i] + v[i+1:]) for i in range(len(v))) for v in data)"
   ]
  }
 ],
 "metadata": {
  "kernelspec": {
   "display_name": "Python 3 (ipykernel)",
   "language": "python",
   "name": "python3"
  },
  "language_info": {
   "codemirror_mode": {
    "name": "ipython",
    "version": 3
   },
   "file_extension": ".py",
   "mimetype": "text/x-python",
   "name": "python",
   "nbconvert_exporter": "python",
   "pygments_lexer": "ipython3",
   "version": "3.12.7"
  },
  "widgets": {
   "application/vnd.jupyter.widget-state+json": {
    "state": {},
    "version_major": 2,
    "version_minor": 0
   }
  }
 },
 "nbformat": 4,
 "nbformat_minor": 5
}
