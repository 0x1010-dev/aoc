{
 "cells": [
  {
   "cell_type": "markdown",
   "id": "83c28b95",
   "metadata": {
    "jupyter": {
     "source_hidden": false
    }
   },
   "source": [
    "## --- Day 3: Mull It Over ---\n",
    "\"Our computers are having issues, so I have no idea if we have any Chief Historians in stock! You're welcome to check the warehouse, though,\" says the mildly flustered shopkeeper at the North Pole Toboggan Rental Shop. The Historians head out to take a look.\n",
    "\n",
    "The shopkeeper turns to you. \"Any chance you can see why our computers are having issues again?\"\n",
    "\n",
    "The computer appears to be trying to run a program, but its memory (your puzzle input) is **corrupted**. All of the instructions have been jumbled up!\n",
    "\n",
    "It seems like the goal of the program is just to **multiply some numbers**. It does that with instructions like `mul(X,Y)`, where `X` and `Y` are each 1-3 digit numbers. For instance, `mul(44,46)` multiplies `44` by `46` to get a result of `2024`. Similarly, `mul(123,4)` would multiply `123` by `4`.\n",
    "\n",
    "However, because the program's memory has been corrupted, there are also many invalid characters that should be **ignored**, even if they look like part of a `mul` instruction. Sequences like `mul(4*`, `mul(6,9!`, `?(12,34)`, or `mul ( 2 , 4 )` do **nothing**.\n",
    "\n",
    "For example, consider the following section of corrupted memory:\n",
    "\n",
    "```shell\n",
    "xmul(2,4)%&mul[3,7]!@^do_not_mul(5,5)+mul(32,64]then(mul(11,8)mul(8,5))\n",
    "```\n",
    "\n",
    "Only the four highlighted sections are real `mul` instructions. Adding up the result of each instruction produces `161` (`2*4 + 5*5 + 11*8 + 8*5`).\n",
    "\n",
    "Scan the corrupted memory for uncorrupted `mul` instructions. **What do you get if you add up all of the results of the multiplications?**\n",
    "\n"
   ]
  },
  {
   "cell_type": "code",
   "execution_count": 9,
   "id": "c59ea73e",
   "metadata": {
    "collapsed": false,
    "jupyter": {
     "outputs_hidden": false,
     "source_hidden": false
    }
   },
   "outputs": [
    {
     "data": {
      "text/plain": [
       "161"
      ]
     },
     "execution_count": 9,
     "metadata": {},
     "output_type": "execute_result"
    }
   ],
   "source": [
    "import re\n",
    "import math\n",
    "\n",
    "test = 'xmul(2,4)%&mul[3,7]!@^do_not_mul(5,5)+mul(32,64]then(mul(11,8)mul(8,5))'\n",
    "\n",
    "def parse(s: str):\n",
    "    return sum([int(a) * int(b) for a, b in re.findall(f'mul\\\\((\\\\d+),(\\\\d+)\\\\)', s.strip())])\n",
    "    \n",
    "parse(test)"
   ]
  },
  {
   "cell_type": "code",
   "execution_count": 11,
   "id": "677773aa",
   "metadata": {
    "collapsed": false,
    "jupyter": {
     "outputs_hidden": false,
     "source_hidden": false
    }
   },
   "outputs": [
    {
     "data": {
      "text/plain": [
       "166630675"
      ]
     },
     "execution_count": 11,
     "metadata": {},
     "output_type": "execute_result"
    }
   ],
   "source": [
    "with open('day3.input') as f:\n",
    "    data = f.read()\n",
    "    \n",
    "parse(data)"
   ]
  },
  {
   "cell_type": "markdown",
   "id": "3fd80486",
   "metadata": {
    "jupyter": {
     "source_hidden": false
    }
   },
   "source": [
    "## --- Part Two ---\n",
    "As you scan through the corrupted memory, you notice that some of the conditional statements are also still intact. If you handle some of the uncorrupted conditional statements in the program, you might be able to get an even more accurate result.\n",
    "\n",
    "There are two new instructions you'll need to handle:\n",
    "\n",
    "\n",
    "- The `do()` instruction **enables** future `mul` instructions.\n",
    "\n",
    "- The `don't()` instruction **disables** future `mul` instructions.\n",
    "\n",
    "\n",
    "\n",
    "Only the **most recent** `do()` or `don't()` instruction applies. At the beginning of the program, `mul` instructions are **enabled**.\n",
    "\n",
    "For example:\n",
    "\n",
    "```shell\n",
    "xmul(2,4)&mul[3,7]!^don't()_mul(5,5)+mul(32,64](mul(11,8)undo()?mul(8,5))\n",
    "```\n",
    "\n",
    "This corrupted memory is similar to the example from before, but this time the `mul(5,5)` and `mul(11,8)` instructions are **disabled** because there is a `don't()` instruction before them. The other `mul` instructions function normally, including the one at the end that gets re-**enabled** by a `do()` instruction.\n",
    "\n",
    "This time, the sum of the results is `48` (`2*4 + 8*5`).\n",
    "\n",
    "Handle the new instructions; **what do you get if you add up all of the results of just the enabled multiplications?**\n",
    "\n"
   ]
  },
  {
   "cell_type": "code",
   "execution_count": 6,
   "id": "7af06eb6",
   "metadata": {
    "collapsed": false,
    "jupyter": {
     "outputs_hidden": false,
     "source_hidden": false
    }
   },
   "outputs": [
    {
     "data": {
      "text/plain": [
       "48"
      ]
     },
     "execution_count": 6,
     "metadata": {},
     "output_type": "execute_result"
    }
   ],
   "source": [
    "import re\n",
    "\n",
    "test = \"xmul(2,4)&mul[3,7]!^don't()_mul(5,5)+mul(32,64](mul(11,8)undo()?mul(8,5))\"\n",
    "\n",
    "def parse(s: str):\n",
    "    result = 0\n",
    "    exec = True\n",
    "    for op in re.findall(f\"mul\\\\((\\\\d+,\\\\d+)\\\\)|(do\\\\(\\\\))|(don\\\\'t\\\\(\\\\))\", s):\n",
    "        mult, do, dont = op\n",
    "        if do:\n",
    "            exec = True\n",
    "        elif dont:\n",
    "            exec = False\n",
    "        elif exec:\n",
    "            a, b = mult.split(',')\n",
    "            result += int(a) * int(b) \n",
    "        \n",
    "    return result\n",
    "    \n",
    "parse(test)"
   ]
  },
  {
   "cell_type": "code",
   "execution_count": 7,
   "id": "09280be1",
   "metadata": {
    "collapsed": false,
    "jupyter": {
     "outputs_hidden": false,
     "source_hidden": false
    }
   },
   "outputs": [
    {
     "data": {
      "text/plain": [
       "93465710"
      ]
     },
     "execution_count": 7,
     "metadata": {},
     "output_type": "execute_result"
    }
   ],
   "source": [
    "with open('day3.input') as f:\n",
    "    data = f.read()\n",
    "    \n",
    "parse(data)"
   ]
  }
 ],
 "metadata": {
  "kernelspec": {
   "display_name": "Python 3 (ipykernel)",
   "language": "python",
   "name": "python3"
  },
  "language_info": {
   "codemirror_mode": {
    "name": "ipython",
    "version": 3
   },
   "file_extension": ".py",
   "mimetype": "text/x-python",
   "name": "python",
   "nbconvert_exporter": "python",
   "pygments_lexer": "ipython3",
   "version": "3.12.7"
  },
  "widgets": {
   "application/vnd.jupyter.widget-state+json": {
    "state": {},
    "version_major": 2,
    "version_minor": 0
   }
  }
 },
 "nbformat": 4,
 "nbformat_minor": 5
}
