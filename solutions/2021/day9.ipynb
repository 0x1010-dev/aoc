{
 "cells": [
  {
   "cell_type": "markdown",
   "metadata": {},
   "source": [
    "# Day 9: Smoke Basin\n",
    "\n",
    "[https://adventofcode.com/2021/day/9](https://adventofcode.com/2021/day/9)\n",
    "\n",
    "## Description\n",
    "\n",
    "### Part One\n",
    "\n",
    "These caves seem to be [lava tubes](https://en.wikipedia.org/wiki/Lava_tube). Parts are even still volcanically active; small hydrothermal vents release smoke into the caves that slowly <span title=\"This was originally going to be a puzzle about watersheds, but we're already under water.\">settles like rain</span>.\n",
    "\n",
    "If you can model how the smoke flows through the caves, you might be able to avoid it and be that much safer. The submarine generates a heightmap of the floor of the nearby caves for you (your puzzle input).\n",
    "\n",
    "Smoke flows to the lowest point of the area it's in. For example, consider the following heightmap:\n",
    "\n",
    "    2199943210\n",
    "    3987894921\n",
    "    9856789892\n",
    "    8767896789\n",
    "    9899965678\n",
    "    \n",
    "\n",
    "Each number corresponds to the height of a particular location, where `9` is the highest and `0` is the lowest a location can be.\n",
    "\n",
    "Your first goal is to find the _low points_ - the locations that are lower than any of its adjacent locations. Most locations have four adjacent locations (up, down, left, and right); locations on the edge or corner of the map have three or two adjacent locations, respectively. (Diagonal locations do not count as adjacent.)\n",
    "\n",
    "In the above example, there are _four_ low points, all highlighted: two are in the first row (a `1` and a `0`), one is in the third row (a `5`), and one is in the bottom row (also a `5`). All other locations on the heightmap have some lower adjacent location, and so are not low points.\n",
    "\n",
    "The _risk level_ of a low point is _1 plus its height_. In the above example, the risk levels of the low points are `2`, `1`, `6`, and `6`. The sum of the risk levels of all low points in the heightmap is therefore _`15`_.\n",
    "\n",
    "Find all of the low points on your heightmap. _What is the sum of the risk levels of all low points on your heightmap?_"
   ]
  },
  {
   "cell_type": "code",
   "execution_count": 31,
   "metadata": {},
   "outputs": [
    {
     "name": "stdout",
     "output_type": "stream",
     "text": [
      "Part #1: 444\n"
     ]
    }
   ],
   "source": [
    "import numpy as np\n",
    "\n",
    "input = np.array([[int(c) for c in line.strip()] for line in open('./input/day9.txt').readlines()], dtype=int)\n",
    "input = np.pad(input, 1, 'constant', constant_values=9)\n",
    "\n",
    "def findLowestPoints(array):\n",
    "    lowest_points = []\n",
    "    for y in range(1, input.shape[0] - 1):\n",
    "        for x in range(1, input.shape[1] - 1):\n",
    "            lowest = True\n",
    "            for yy in range(y - 1, y + 2):\n",
    "                for xx in range(x - 1, x + 2):\n",
    "                    if input[y, x] > input[yy, xx]:\n",
    "                        lowest = False\n",
    "            \n",
    "            if lowest:\n",
    "                lowest_points.append((y, x))\n",
    "    \n",
    "    return lowest_points\n",
    "\n",
    "\n",
    "# find lowest points\n",
    "lowest_points = findLowestPoints(input)\n",
    "print('Part #1:', sum(input[c] for c in lowest_points) + len(lowest_points))\n"
   ]
  },
  {
   "cell_type": "markdown",
   "metadata": {},
   "source": [
    "### Part Two\n",
    "\n",
    "Next, you need to find the largest basins so you know what areas are most important to avoid.\n",
    "\n",
    "A _basin_ is all locations that eventually flow downward to a single low point. Therefore, every low point has a basin, although some basins are very small. Locations of height `9` do not count as being in any basin, and all other locations will always be part of exactly one basin.\n",
    "\n",
    "The _size_ of a basin is the number of locations within the basin, including the low point. The example above has four basins.\n",
    "\n",
    "The top-left basin, size `3`:\n",
    "\n",
    "    2199943210\n",
    "    3987894921\n",
    "    9856789892\n",
    "    8767896789\n",
    "    9899965678\n",
    "    \n",
    "\n",
    "The top-right basin, size `9`:\n",
    "\n",
    "    2199943210\n",
    "    3987894921\n",
    "    9856789892\n",
    "    8767896789\n",
    "    9899965678\n",
    "    \n",
    "\n",
    "The middle basin, size `14`:\n",
    "\n",
    "    2199943210\n",
    "    3987894921\n",
    "    9856789892\n",
    "    8767896789\n",
    "    9899965678\n",
    "    \n",
    "\n",
    "The bottom-right basin, size `9`:\n",
    "\n",
    "    2199943210\n",
    "    3987894921\n",
    "    9856789892\n",
    "    8767896789\n",
    "    9899965678\n",
    "    \n",
    "\n",
    "Find the three largest basins and multiply their sizes together. In the above example, this is `9 * 14 * 9 = 1134`.\n",
    "\n",
    "_What do you get if you multiply together the sizes of the three largest basins?_"
   ]
  },
  {
   "cell_type": "code",
   "execution_count": 32,
   "metadata": {},
   "outputs": [
    {
     "name": "stdout",
     "output_type": "stream",
     "text": [
      "Part #2: 1168440\n"
     ]
    }
   ],
   "source": [
    "def findBasin(array, start, points=None):\n",
    "    points = points if points else []\n",
    "    y, x = start\n",
    "\n",
    "    # reached a hill\n",
    "    if array[start] == 9 or start in points:\n",
    "        return\n",
    "\n",
    "    # add point to basin\n",
    "    points.append(start)\n",
    "\n",
    "    # go right\n",
    "    if x + 1 < array.shape[1]:\n",
    "        findBasin(array, (y, x+1), points)\n",
    "\n",
    "    # go down\n",
    "    if y + 1 < array.shape[0]:\n",
    "        findBasin(array, (y+1, x), points)\n",
    "\n",
    "    # go left\n",
    "    if x - 1 > 0:\n",
    "        findBasin(array, (y, x-1), points)\n",
    "\n",
    "    # go up\n",
    "    if y - 1 > 0:\n",
    "        findBasin(array, (y-1, x), points)\n",
    "\n",
    "    return points\n",
    "\n",
    "def findBasins(array):\n",
    "    return [findBasin(array, point) for point in findLowestPoints(array)]\n",
    "\n",
    "# find three largest basins\n",
    "largest_basins = sorted([len(basin) for basin in findBasins(input)], reverse=True)\n",
    "print('Part #2:', largest_basins[0] * largest_basins[1] * largest_basins[2])"
   ]
  }
 ],
 "metadata": {
  "interpreter": {
   "hash": "f6708aca22e7434cabd303a645d6471e6e90ad77f0f5c802acf61937914420a7"
  },
  "kernelspec": {
   "display_name": "Python 3.10.0 64-bit ('3.10': conda)",
   "language": "python",
   "name": "python3"
  },
  "language_info": {
   "codemirror_mode": {
    "name": "ipython",
    "version": 3
   },
   "file_extension": ".py",
   "mimetype": "text/x-python",
   "name": "python",
   "nbconvert_exporter": "python",
   "pygments_lexer": "ipython3",
   "version": "3.10.0"
  },
  "orig_nbformat": 4
 },
 "nbformat": 4,
 "nbformat_minor": 2
}
