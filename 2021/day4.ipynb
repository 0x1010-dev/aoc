{
 "cells": [
  {
   "cell_type": "markdown",
   "metadata": {},
   "source": [
    "# Day 4: Giant Squid\n",
    "\n",
    "[https://adventofcode.com/2021/day/4](https://adventofcode.com/2021/day/4)\n",
    "\n",
    "## Description\n",
    "\n",
    "### Part One\n",
    "\n",
    "You're already almost 1.5km (almost a mile) below the surface of the ocean, already so deep that you can't see any sunlight. What you _can_ see, however, is a giant squid that has attached itself to the outside of your submarine.\n",
    "\n",
    "Maybe it wants to play [bingo](https://en.wikipedia.org/wiki/Bingo_(American_version))?\n",
    "\n",
    "Bingo is played on a set of boards each consisting of a 5x5 grid of numbers. Numbers are chosen at random, and the chosen number is _marked_ on all boards on which it appears. (Numbers may not appear on all boards.) If all numbers in any row or any column of a board are marked, that board _wins_. (Diagonals don't count.)\n",
    "\n",
    "The submarine has a _bingo subsystem_ to help passengers (currently, you and the giant squid) pass the time. It automatically generates a random order in which to draw numbers and a random set of boards (your puzzle input). For example:\n",
    "\n",
    "    7,4,9,5,11,17,23,2,0,14,21,24,10,16,13,6,15,25,12,22,18,20,8,19,3,26,1\n",
    "    \n",
    "    22 13 17 11  0\n",
    "     8  2 23  4 24\n",
    "    21  9 14 16  7\n",
    "     6 10  3 18  5\n",
    "     1 12 20 15 19\n",
    "    \n",
    "     3 15  0  2 22\n",
    "     9 18 13 17  5\n",
    "    19  8  7 25 23\n",
    "    20 11 10 24  4\n",
    "    14 21 16 12  6\n",
    "    \n",
    "    14 21 17 24  4\n",
    "    10 16 15  9 19\n",
    "    18  8 23 26 20\n",
    "    22 11 13  6  5\n",
    "     2  0 12  3  7\n",
    "    \n",
    "\n",
    "After the first five numbers are drawn (`7`, `4`, `9`, `5`, and `11`), there are no winners, but the boards are marked as follows (shown here adjacent to each other to save space):\n",
    "\n",
    "    22 13 17 11  0         3 15  0  2 22        14 21 17 24  4\n",
    "     8  2 23  4 24         9 18 13 17  5        10 16 15  9 19\n",
    "    21  9 14 16  7        19  8  7 25 23        18  8 23 26 20\n",
    "     6 10  3 18  5        20 11 10 24  4        22 11 13  6  5\n",
    "     1 12 20 15 19        14 21 16 12  6         2  0 12  3  7\n",
    "    \n",
    "\n",
    "After the next six numbers are drawn (`17`, `23`, `2`, `0`, `14`, and `21`), there are still no winners:\n",
    "\n",
    "    22 13 17 11  0         3 15  0  2 22        14 21 17 24  4\n",
    "     8  2 23  4 24         9 18 13 17  5        10 16 15  9 19\n",
    "    21  9 14 16  7        19  8  7 25 23        18  8 23 26 20\n",
    "     6 10  3 18  5        20 11 10 24  4        22 11 13  6  5\n",
    "     1 12 20 15 19        14 21 16 12  6         2  0 12  3  7\n",
    "    \n",
    "\n",
    "Finally, `24` is drawn:\n",
    "\n",
    "    22 13 17 11  0         3 15  0  2 22        14 21 17 24  4\n",
    "     8  2 23  4 24         9 18 13 17  5        10 16 15  9 19\n",
    "    21  9 14 16  7        19  8  7 25 23        18  8 23 26 20\n",
    "     6 10  3 18  5        20 11 10 24  4        22 11 13  6  5\n",
    "     1 12 20 15 19        14 21 16 12  6         2  0 12  3  7\n",
    "    \n",
    "\n",
    "At this point, the third board _wins_ because it has at least one complete row or column of marked numbers (in this case, the entire top row is marked: _`14 21 17 24 4`_).\n",
    "\n",
    "The _score_ of the winning board can now be calculated. Start by finding the _sum of all unmarked numbers_ on that board; in this case, the sum is `188`. Then, multiply that sum by _the number that was just called_ when the board won, `24`, to get the final score, `188 * 24 = 4512`.\n",
    "\n",
    "To guarantee victory against the giant squid, figure out which board will win first. _What will your final score be if you choose that board?_"
   ]
  },
  {
   "cell_type": "code",
   "execution_count": 54,
   "metadata": {},
   "outputs": [],
   "source": [
    "import numpy as np\n",
    "\n",
    "input = open('input/day4.txt').read()\n",
    "\n",
    "draw, boards = input.split('\\n', 1)\n",
    "draw = [int(i) for i in draw.split(',')]\n",
    "boards = boards.strip().split('\\n\\n')\n",
    "\n",
    "boards = [\n",
    "    np.array([[int(j) for j in i.split(' ') if j != ''] for i in board.strip().split('\\n')])\n",
    "    for board in boards\n",
    "]"
   ]
  },
  {
   "cell_type": "markdown",
   "metadata": {},
   "source": [
    "### Part Two\n",
    "\n",
    "On the other hand, it might be wise to try a different strategy: <span title=\"That's 'cuz a submarine don't pull things' antennas out of their sockets when they lose. Giant squid are known to do that.\">let the giant squid win</span>.\n",
    "\n",
    "You aren't sure how many bingo boards a giant squid could play at once, so rather than waste time counting its arms, the safe thing to do is to _figure out which board will win last_ and choose that one. That way, no matter which boards it picks, it will win for sure.\n",
    "\n",
    "In the above example, the second board is the last to win, which happens after `13` is eventually called and its middle column is completely marked. If you were to keep playing until this point, the second board would have a sum of unmarked numbers equal to `148` for a final score of `148 * 13 = 1924`.\n",
    "\n",
    "Figure out which board will win last. _Once it wins, what would its final score be?_\n"
   ]
  },
  {
   "cell_type": "code",
   "execution_count": 55,
   "metadata": {},
   "outputs": [
    {
     "name": "stdout",
     "output_type": "stream",
     "text": [
      "Part 1: 31424\n",
      "Part 2: 23042\n"
     ]
    }
   ],
   "source": [
    "\n",
    "def checkIfWon(board):\n",
    "    for y in range(board.shape[0]):\n",
    "        if np.all(board[y,:] < 0): return True\n",
    "\n",
    "    for x in range(board.shape[1]):\n",
    "        if np.all(board[:,x] < 0): return True\n",
    "\n",
    "    return False\n",
    "\n",
    "def result(board, num):\n",
    "    return np.sum(board[board > 0]) * num\n",
    "\n",
    "won = []\n",
    "for num in draw:\n",
    "    for i in range(len(boards) - 1, -1, -1):\n",
    "        b = boards[i]\n",
    "        b[b == num] *= -1\n",
    "        if checkIfWon(b):\n",
    "            won.append((b, num))\n",
    "            boards.pop(i)\n",
    "\n",
    "print('Part 1:' , result(*won[0]))\n",
    "print('Part 2:' , result(*won[-1]))\n"
   ]
  }
 ],
 "metadata": {
  "interpreter": {
   "hash": "f6708aca22e7434cabd303a645d6471e6e90ad77f0f5c802acf61937914420a7"
  },
  "kernelspec": {
   "display_name": "Python 3.10.0 64-bit ('3.10': conda)",
   "language": "python",
   "name": "python3"
  },
  "language_info": {
   "codemirror_mode": {
    "name": "ipython",
    "version": 3
   },
   "file_extension": ".py",
   "mimetype": "text/x-python",
   "name": "python",
   "nbconvert_exporter": "python",
   "pygments_lexer": "ipython3",
   "version": "3.10.0"
  },
  "orig_nbformat": 4
 },
 "nbformat": 4,
 "nbformat_minor": 2
}
