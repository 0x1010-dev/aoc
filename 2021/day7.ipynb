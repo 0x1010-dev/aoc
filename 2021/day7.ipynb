{
 "cells": [
  {
   "cell_type": "markdown",
   "metadata": {},
   "source": [
    "# Day 7: The Treachery of Whales\n",
    "\n",
    "[https://adventofcode.com/2021/day/7](https://adventofcode.com/2021/day/7)\n",
    "\n",
    "## Description\n",
    "\n",
    "### Part One\n",
    "\n",
    "A giant [whale](https://en.wikipedia.org/wiki/Sperm_whale) has decided your submarine is its next meal, and it's much faster than you are. There's nowhere to run!\n",
    "\n",
    "Suddenly, a swarm of crabs (each in its own tiny submarine - it's too deep for them otherwise) zooms in to rescue you! They seem to be preparing to blast a hole in the ocean floor; sensors indicate a _massive underground cave system_ just beyond where they're aiming!\n",
    "\n",
    "The crab submarines all need to be aligned before they'll have enough power to blast a large enough hole for your submarine to get through. However, it doesn't look like they'll be aligned before the whale catches you! Maybe you can help?\n",
    "\n",
    "There's one major catch - crab submarines can only move horizontally.\n",
    "\n",
    "You quickly make a list of _the horizontal position of each crab_ (your puzzle input). Crab submarines have limited fuel, so you need to find a way to make all of their horizontal positions match while requiring them to spend as little fuel as possible.\n",
    "\n",
    "For example, consider the following horizontal positions:\n",
    "\n",
    "    16,1,2,0,4,2,7,1,2,14\n",
    "\n",
    "This means there's a crab with horizontal position `16`, a crab with horizontal position `1`, and so on.\n",
    "\n",
    "Each change of 1 step in horizontal position of a single crab costs 1 fuel. You could choose any horizontal position to align them all on, but the one that costs the least fuel is horizontal position `2`:\n",
    "\n",
    "*   Move from `16` to `2`: `14` fuel\n",
    "*   Move from `1` to `2`: `1` fuel\n",
    "*   Move from `2` to `2`: `0` fuel\n",
    "*   Move from `0` to `2`: `2` fuel\n",
    "*   Move from `4` to `2`: `2` fuel\n",
    "*   Move from `2` to `2`: `0` fuel\n",
    "*   Move from `7` to `2`: `5` fuel\n",
    "*   Move from `1` to `2`: `1` fuel\n",
    "*   Move from `2` to `2`: `0` fuel\n",
    "*   Move from `14` to `2`: `12` fuel\n",
    "\n",
    "This costs a total of _`37`_ fuel. This is the cheapest possible outcome; more expensive outcomes include aligning at position `1` (`41` fuel), position `3` (`39` fuel), or position `10` (`71` fuel).\n",
    "\n",
    "Determine the horizontal position that the crabs can align to using the least fuel possible. _How much fuel must they spend to align to that position?_"
   ]
  },
  {
   "cell_type": "code",
   "execution_count": 32,
   "metadata": {},
   "outputs": [
    {
     "name": "stdout",
     "output_type": "stream",
     "text": [
      "Part #1: 345035\n"
     ]
    }
   ],
   "source": [
    "from statistics import median, mean\n",
    "\n",
    "input = [int(i) for i in open('./input/day7.txt').read().strip().split(',')]\n",
    "low, high = min(input), max(input)\n",
    "\n",
    "# part 1\n",
    "target = int(median(input))\n",
    "fuel = sum([abs(target - pos) for pos in input])\n",
    "\n",
    "print('Part #1:', fuel)"
   ]
  },
  {
   "cell_type": "markdown",
   "metadata": {},
   "source": [
    "### Part Two\n",
    "\n",
    "The crabs don't seem interested in your proposed solution. Perhaps you misunderstand crab engineering?\n",
    "\n",
    "As it turns out, crab submarine engines <span title=\"This appears to be due to the modial interaction of magneto-reluctance and capacitive duractance.\">don't burn fuel at a constant rate</span>. Instead, each change of 1 step in horizontal position costs 1 more unit of fuel than the last: the first step costs `1`, the second step costs `2`, the third step costs `3`, and so on.\n",
    "\n",
    "As each crab moves, moving further becomes more expensive. This changes the best horizontal position to align them all on; in the example above, this becomes `5`:\n",
    "\n",
    "*   Move from `16` to `5`: `66` fuel\n",
    "*   Move from `1` to `5`: `10` fuel\n",
    "*   Move from `2` to `5`: `6` fuel\n",
    "*   Move from `0` to `5`: `15` fuel\n",
    "*   Move from `4` to `5`: `1` fuel\n",
    "*   Move from `2` to `5`: `6` fuel\n",
    "*   Move from `7` to `5`: `3` fuel\n",
    "*   Move from `1` to `5`: `10` fuel\n",
    "*   Move from `2` to `5`: `6` fuel\n",
    "*   Move from `14` to `5`: `45` fuel\n",
    "\n",
    "This costs a total of _`168`_ fuel. This is the new cheapest possible outcome; the old alignment position (`2`) now costs `206` fuel instead.\n",
    "\n",
    "Determine the horizontal position that the crabs can align to using the least fuel possible so they can make you an escape route! _How much fuel must they spend to align to that position?_\n"
   ]
  },
  {
   "cell_type": "code",
   "execution_count": 43,
   "metadata": {},
   "outputs": [
    {
     "name": "stdout",
     "output_type": "stream",
     "text": [
      "Part #2: 97038163\n"
     ]
    }
   ],
   "source": [
    "# part 2\n",
    "# average minimizes to distance ^ 2 but we have distance * (distance + 1)\n",
    "# so we need to try target and target + 1\n",
    "target = int(mean(input))\n",
    "fuel = int(min([\n",
    "    sum(abs(t - pos) * (abs(t - pos) + 1) / 2 for pos in input)\n",
    "    for t in [target, target + 1]\n",
    "]))\n",
    "\n",
    "print('Part #2:', fuel)"
   ]
  },
  {
   "cell_type": "code",
   "execution_count": null,
   "metadata": {},
   "outputs": [],
   "source": []
  }
 ],
 "metadata": {
  "interpreter": {
   "hash": "f6708aca22e7434cabd303a645d6471e6e90ad77f0f5c802acf61937914420a7"
  },
  "kernelspec": {
   "display_name": "Python 3.10.0 64-bit ('3.10': conda)",
   "language": "python",
   "name": "python3"
  },
  "language_info": {
   "codemirror_mode": {
    "name": "ipython",
    "version": 3
   },
   "file_extension": ".py",
   "mimetype": "text/x-python",
   "name": "python",
   "nbconvert_exporter": "python",
   "pygments_lexer": "ipython3",
   "version": "3.10.0"
  },
  "orig_nbformat": 4
 },
 "nbformat": 4,
 "nbformat_minor": 2
}
