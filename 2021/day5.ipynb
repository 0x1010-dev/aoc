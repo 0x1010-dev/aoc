{
 "cells": [
  {
   "cell_type": "markdown",
   "metadata": {},
   "source": [
    "# Day 5: Hydrothermal Venture\n",
    "\n",
    "[https://adventofcode.com/2021/day/5](https://adventofcode.com/2021/day/5)\n",
    "\n",
    "## Description\n",
    "\n",
    "### Part One\n",
    "\n",
    "You come across a field of [hydrothermal vents](https://en.wikipedia.org/wiki/Hydrothermal_vent) on the ocean floor! These vents constantly produce large, opaque clouds, so it would be best to avoid them if possible.\n",
    "\n",
    "They tend to form in _lines_; the submarine helpfully produces a list of nearby <span title=\"Maybe they're Bresenham vents.\">lines of vents</span> (your puzzle input) for you to review. For example:\n",
    "\n",
    "    0,9 -> 5,9\n",
    "    8,0 -> 0,8\n",
    "    9,4 -> 3,4\n",
    "    2,2 -> 2,1\n",
    "    7,0 -> 7,4\n",
    "    6,4 -> 2,0\n",
    "    0,9 -> 2,9\n",
    "    3,4 -> 1,4\n",
    "    0,0 -> 8,8\n",
    "    5,5 -> 8,2\n",
    "    \n",
    "\n",
    "Each line of vents is given as a line segment in the format `x1,y1 -> x2,y2` where `x1`,`y1` are the coordinates of one end the line segment and `x2`,`y2` are the coordinates of the other end. These line segments include the points at both ends. In other words:\n",
    "\n",
    "*   An entry like `1,1 -> 1,3` covers points `1,1`, `1,2`, and `1,3`.\n",
    "*   An entry like `9,7 -> 7,7` covers points `9,7`, `8,7`, and `7,7`.\n",
    "\n",
    "For now, _only consider horizontal and vertical lines_: lines where either `x1 = x2` or `y1 = y2`.\n",
    "\n",
    "So, the horizontal and vertical lines from the above list would produce the following diagram:\n",
    "\n",
    "    .......1..\n",
    "    ..1....1..\n",
    "    ..1....1..\n",
    "    .......1..\n",
    "    .112111211\n",
    "    ..........\n",
    "    ..........\n",
    "    ..........\n",
    "    ..........\n",
    "    222111....\n",
    "    \n",
    "\n",
    "In this diagram, the top left corner is `0,0` and the bottom right corner is `9,9`. Each position is shown as _the number of lines which cover that point_ or `.` if no line covers that point. The top-left pair of `1`s, for example, comes from `2,2 -> 2,1`; the very bottom row is formed by the overlapping lines `0,9 -> 5,9` and `0,9 -> 2,9`.\n",
    "\n",
    "To avoid the most dangerous areas, you need to determine _the number of points where at least two lines overlap_. In the above example, this is anywhere in the diagram with a `2` or larger - a total of _`5`_ points.\n",
    "\n",
    "Consider only horizontal and vertical lines. _At how many points do at least two lines overlap?_\n"
   ]
  },
  {
   "cell_type": "code",
   "execution_count": 186,
   "metadata": {},
   "outputs": [],
   "source": [
    "from dataclasses import dataclass\n",
    "import numpy as np\n",
    "import re\n",
    "\n",
    "input = open('./input/day5.txt').read()\n",
    "\n",
    "@dataclass\n",
    "class Line:\n",
    "    x1: int\n",
    "    y1: int\n",
    "    x2: int\n",
    "    y2: int\n",
    "\n",
    "    @property\n",
    "    def is_orthogonal(self):\n",
    "         return self.x1 == self.x2 or self.y1 == self.y2\n",
    "\n",
    "class Board:\n",
    "    def __init__(self, w, h):\n",
    "         self.data = np.zeros((h, w))\n",
    "\n",
    "    def drawLine(self, l):\n",
    "        length = int(abs(l.y2 - l.y1)) if abs(l.y2 - l.y1) > abs(l.x2 - l.x1) else int(abs(l.x2 - l.x1))\n",
    "        x = np.round(np.linspace(l.x1, l.x2, length + 1)).astype(int)\n",
    "        y = np.round(np.linspace(l.y1, l.y2, length + 1)).astype(int)\n",
    "        for x, y in zip(x, y):\n",
    "            self.data[y, x] += 1\n",
    "\n",
    "lines = [Line(*[int(i) for i in re.split(r'\\W+', line)]) for line in input.strip().splitlines()]"
   ]
  },
  {
   "cell_type": "code",
   "execution_count": 188,
   "metadata": {},
   "outputs": [
    {
     "data": {
      "text/plain": [
       "(6189,)"
      ]
     },
     "execution_count": 188,
     "metadata": {},
     "output_type": "execute_result"
    }
   ],
   "source": [
    "o_lines = list(filter(lambda x: x.is_orthogonal, lines))\n",
    "board = Board(2000, 2000)\n",
    "\n",
    "for line in o_lines:\n",
    "    board.drawLine(line)\n",
    "\n",
    "board.data[board.data > 1].shape"
   ]
  },
  {
   "cell_type": "markdown",
   "metadata": {},
   "source": [
    "### Part Two\n",
    "\n",
    "Unfortunately, considering only horizontal and vertical lines doesn't give you the full picture; you need to also consider _diagonal lines_.\n",
    "\n",
    "Because of the limits of the hydrothermal vent mapping system, the lines in your list will only ever be horizontal, vertical, or a diagonal line at exactly 45 degrees. In other words:\n",
    "\n",
    "*   An entry like `1,1 -> 3,3` covers points `1,1`, `2,2`, and `3,3`.\n",
    "*   An entry like `9,7 -> 7,9` covers points `9,7`, `8,8`, and `7,9`.\n",
    "\n",
    "Considering all lines from the above example would now produce the following diagram:\n",
    "\n",
    "    1.1....11.\n",
    "    .111...2..\n",
    "    ..2.1.111.\n",
    "    ...1.2.2..\n",
    "    .112313211\n",
    "    ...1.2....\n",
    "    ..1...1...\n",
    "    .1.....1..\n",
    "    1.......1.\n",
    "    222111....\n",
    "    \n",
    "\n",
    "You still need to determine _the number of points where at least two lines overlap_. In the above example, this is still anywhere in the diagram with a `2` or larger - now a total of _`12`_ points.\n",
    "\n",
    "Consider all of the lines. _At how many points do at least two lines overlap?_\n"
   ]
  },
  {
   "cell_type": "code",
   "execution_count": 189,
   "metadata": {},
   "outputs": [
    {
     "data": {
      "text/plain": [
       "(19164,)"
      ]
     },
     "execution_count": 189,
     "metadata": {},
     "output_type": "execute_result"
    }
   ],
   "source": [
    "board = Board(2000, 2000)\n",
    "\n",
    "for line in lines:\n",
    "    board.drawLine(line)\n",
    "\n",
    "board.data[board.data > 1].shape"
   ]
  },
  {
   "cell_type": "code",
   "execution_count": null,
   "metadata": {},
   "outputs": [],
   "source": []
  }
 ],
 "metadata": {
  "interpreter": {
   "hash": "f6708aca22e7434cabd303a645d6471e6e90ad77f0f5c802acf61937914420a7"
  },
  "kernelspec": {
   "display_name": "Python 3.10.0 64-bit ('3.10': conda)",
   "language": "python",
   "name": "python3"
  },
  "language_info": {
   "codemirror_mode": {
    "name": "ipython",
    "version": 3
   },
   "file_extension": ".py",
   "mimetype": "text/x-python",
   "name": "python",
   "nbconvert_exporter": "python",
   "pygments_lexer": "ipython3",
   "version": "3.10.0"
  },
  "orig_nbformat": 4
 },
 "nbformat": 4,
 "nbformat_minor": 2
}
